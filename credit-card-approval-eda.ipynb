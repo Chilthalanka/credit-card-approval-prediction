{
 "cells": [
  {
   "attachments": {},
   "cell_type": "markdown",
   "metadata": {},
   "source": [
    "# Exploratory Data Analysis (EDA)"
   ]
  },
  {
   "attachments": {},
   "cell_type": "markdown",
   "metadata": {},
   "source": [
    "### Import Libraries"
   ]
  },
  {
   "cell_type": "code",
   "execution_count": 1,
   "metadata": {},
   "outputs": [],
   "source": [
    "import warnings\n",
    "warnings.filterwarnings('ignore')\n",
    "\n",
    "import numpy as np\n",
    "import pandas as pd\n",
    "import seaborn as sns\n",
    "import matplotlib.pyplot as plt\n",
    "%matplotlib inline"
   ]
  },
  {
   "attachments": {},
   "cell_type": "markdown",
   "metadata": {},
   "source": [
    "### UDFs"
   ]
  },
  {
   "cell_type": "code",
   "execution_count": 2,
   "metadata": {},
   "outputs": [],
   "source": [
    "def count_plot(x, dataframe, ax=None, **kwargs):\n",
    "    if len(kwargs)==1 and kwargs['mode']=='horizontal':\n",
    "        sns.countplot(y=x, data=dataframe, ax=ax, order=dataframe[x].value_counts().index)\n",
    "    else:\n",
    "        sns.countplot(x=x, data=dataframe, ax=ax, order=dataframe[x].value_counts().index)\n",
    "    plt.box(False)\n",
    "    return None\n",
    "\n",
    "    \n",
    "def pie_plot(df_col, fig_size, title):\n",
    "    fig, ax = plt.subplots(figsize=fig_size)\n",
    "    ax.pie(df_col.values, autopct='%1.2f%%', shadow=False, startangle=90)\n",
    "    ax.axis('equal')\n",
    "    plt.legend(labels=df_col.index, bbox_to_anchor=(1.05, 1))\n",
    "    plt.title(title)\n",
    "    plt.show()\n",
    "    return None\n",
    "\n",
    "\n",
    "def stacked_vBar_plot(dataframe, value, index, column, xlabel, fig_size, scale='linear', with_percent=True):\n",
    "    \n",
    "    df_1 = dataframe.pivot_table(values=[value], index=[index], columns=[column], aggfunc=len, margins=True)\n",
    "    df_1_percent = df_1.div(df_1.iloc[:,-1], axis=0).mul(100, axis=0).round(2)\n",
    "    df_2_percent = df_1_percent.iloc[:, :-1].drop('All')\n",
    "    \n",
    "    columns = df_2_percent.columns.levels[1].tolist()\n",
    "    columns.remove('All')\n",
    "    \n",
    "    ax = df_2_percent.plot.bar(stacked=True)\n",
    "    ax.figure.set_size_inches(fig_size)\n",
    "    ax.grid(False)\n",
    "    plt.legend(labels=columns, bbox_to_anchor=(1.05, 1), title='NPS Type')\n",
    "    plt.xlabel(xlabel)\n",
    "    plt.ylabel('%GT Count of NPS_Type')\n",
    "    \n",
    "    if with_percent:\n",
    "        # Add this loop to add the annotations\n",
    "        for p in ax.patches:\n",
    "            width, height = p.get_width(), p.get_height()\n",
    "            x, y = p.get_xy() \n",
    "            ax.annotate('{:.2f}%'.format(height), (x + width/8, y + height/2))\n",
    "    plt.box(False)\n",
    "    plt.show()\n",
    "    return None\n",
    "\n",
    "\n",
    "def pdf_distribution_plots(df, features, target):\n",
    "    nrow = int((len(features)/3) + len(features)%3)\n",
    "    \n",
    "    t0 = df.loc[df[target] == 0]\n",
    "    t1 = df.loc[df[target] == 1]\n",
    "\n",
    "    sns.set_style('whitegrid')\n",
    "    fig = plt.figure(figsize=(15,10))\n",
    "\n",
    "    for indx, feature in enumerate(features):\n",
    "        ax = fig.add_subplot(nrow, 3, indx+1)\n",
    "        sns.kdeplot(t0[feature], label=\"0\", legend=True)\n",
    "        sns.kdeplot(t1[feature], label=\"1\", legend=True)\n",
    "        ax.set_ylabel('Density', fontsize=12)\n",
    "        ax.set_xlabel(feature, fontsize=12)\n",
    "        ax.tick_params(axis='both', which='major', labelsize=15)\n",
    "        ax.legend(loc='best')\n",
    "    \n",
    "    plt.subplots_adjust(left=None, bottom=None, right=None, top=None,wspace= 0.3, hspace=0.5)\n",
    "    plt.show()\n",
    "    return None\n",
    "\n",
    "\n",
    "def clipping(dataframe, num_cols):\n",
    "    df_copy = dataframe.copy()\n",
    "    for col in num_cols:\n",
    "        p25 = np.percentile(df_copy[col], 25)\n",
    "        p75 = np.percentile(df_copy[col], 75)\n",
    "        iqr = p75 - p25\n",
    "        df_copy[col] = np.clip(df_copy[col], a_min=(p25 - 1.5*iqr), a_max=(p75 + 1.5*iqr))\n",
    "    return df_copy\n",
    "\n",
    "\n",
    "def get_category(df, col, binsnum, labels, qcut = False):\n",
    "    if qcut:\n",
    "        localdf = pd.qcut(df[col], q = binsnum, labels = labels) # quantile cut\n",
    "    else:\n",
    "        localdf = pd.cut(df[col], bins = binsnum, labels = labels) # equal-length cut\n",
    "        \n",
    "    localdf = pd.DataFrame(localdf)\n",
    "    name = col + '_CAT'\n",
    "    localdf[name] = localdf[col]\n",
    "    df = df.join(localdf[name])\n",
    "    df[name] = df[name].astype(object)\n",
    "    return df"
   ]
  },
  {
   "attachments": {},
   "cell_type": "markdown",
   "metadata": {},
   "source": [
    "### Configurations"
   ]
  },
  {
   "cell_type": "code",
   "execution_count": 3,
   "metadata": {},
   "outputs": [],
   "source": [
    "pd.set_option('display.max_rows', 100)\n",
    "pd.set_option('display.max_columns', 50)"
   ]
  },
  {
   "attachments": {},
   "cell_type": "markdown",
   "metadata": {},
   "source": [
    "### Load Datasets"
   ]
  },
  {
   "cell_type": "code",
   "execution_count": 4,
   "metadata": {},
   "outputs": [
    {
     "data": {
      "text/html": [
       "<div>\n",
       "<style scoped>\n",
       "    .dataframe tbody tr th:only-of-type {\n",
       "        vertical-align: middle;\n",
       "    }\n",
       "\n",
       "    .dataframe tbody tr th {\n",
       "        vertical-align: top;\n",
       "    }\n",
       "\n",
       "    .dataframe thead th {\n",
       "        text-align: right;\n",
       "    }\n",
       "</style>\n",
       "<table border=\"1\" class=\"dataframe\">\n",
       "  <thead>\n",
       "    <tr style=\"text-align: right;\">\n",
       "      <th></th>\n",
       "      <th>ID</th>\n",
       "      <th>CODE_GENDER</th>\n",
       "      <th>FLAG_OWN_CAR</th>\n",
       "      <th>FLAG_OWN_REALTY</th>\n",
       "      <th>CNT_CHILDREN</th>\n",
       "      <th>AMT_INCOME_TOTAL</th>\n",
       "      <th>NAME_INCOME_TYPE</th>\n",
       "      <th>NAME_EDUCATION_TYPE</th>\n",
       "      <th>NAME_FAMILY_STATUS</th>\n",
       "      <th>NAME_HOUSING_TYPE</th>\n",
       "      <th>DAYS_BIRTH</th>\n",
       "      <th>DAYS_EMPLOYED</th>\n",
       "      <th>FLAG_MOBIL</th>\n",
       "      <th>FLAG_WORK_PHONE</th>\n",
       "      <th>FLAG_PHONE</th>\n",
       "      <th>FLAG_EMAIL</th>\n",
       "      <th>OCCUPATION_TYPE</th>\n",
       "      <th>CNT_FAM_MEMBERS</th>\n",
       "    </tr>\n",
       "  </thead>\n",
       "  <tbody>\n",
       "    <tr>\n",
       "      <th>0</th>\n",
       "      <td>5008804</td>\n",
       "      <td>M</td>\n",
       "      <td>Y</td>\n",
       "      <td>Y</td>\n",
       "      <td>0</td>\n",
       "      <td>427500.0</td>\n",
       "      <td>Working</td>\n",
       "      <td>Higher education</td>\n",
       "      <td>Civil marriage</td>\n",
       "      <td>Rented apartment</td>\n",
       "      <td>-12005</td>\n",
       "      <td>-4542</td>\n",
       "      <td>1</td>\n",
       "      <td>1</td>\n",
       "      <td>0</td>\n",
       "      <td>0</td>\n",
       "      <td>NaN</td>\n",
       "      <td>2.0</td>\n",
       "    </tr>\n",
       "    <tr>\n",
       "      <th>1</th>\n",
       "      <td>5008805</td>\n",
       "      <td>M</td>\n",
       "      <td>Y</td>\n",
       "      <td>Y</td>\n",
       "      <td>0</td>\n",
       "      <td>427500.0</td>\n",
       "      <td>Working</td>\n",
       "      <td>Higher education</td>\n",
       "      <td>Civil marriage</td>\n",
       "      <td>Rented apartment</td>\n",
       "      <td>-12005</td>\n",
       "      <td>-4542</td>\n",
       "      <td>1</td>\n",
       "      <td>1</td>\n",
       "      <td>0</td>\n",
       "      <td>0</td>\n",
       "      <td>NaN</td>\n",
       "      <td>2.0</td>\n",
       "    </tr>\n",
       "    <tr>\n",
       "      <th>2</th>\n",
       "      <td>5008806</td>\n",
       "      <td>M</td>\n",
       "      <td>Y</td>\n",
       "      <td>Y</td>\n",
       "      <td>0</td>\n",
       "      <td>112500.0</td>\n",
       "      <td>Working</td>\n",
       "      <td>Secondary / secondary special</td>\n",
       "      <td>Married</td>\n",
       "      <td>House / apartment</td>\n",
       "      <td>-21474</td>\n",
       "      <td>-1134</td>\n",
       "      <td>1</td>\n",
       "      <td>0</td>\n",
       "      <td>0</td>\n",
       "      <td>0</td>\n",
       "      <td>Security staff</td>\n",
       "      <td>2.0</td>\n",
       "    </tr>\n",
       "    <tr>\n",
       "      <th>3</th>\n",
       "      <td>5008808</td>\n",
       "      <td>F</td>\n",
       "      <td>N</td>\n",
       "      <td>Y</td>\n",
       "      <td>0</td>\n",
       "      <td>270000.0</td>\n",
       "      <td>Commercial associate</td>\n",
       "      <td>Secondary / secondary special</td>\n",
       "      <td>Single / not married</td>\n",
       "      <td>House / apartment</td>\n",
       "      <td>-19110</td>\n",
       "      <td>-3051</td>\n",
       "      <td>1</td>\n",
       "      <td>0</td>\n",
       "      <td>1</td>\n",
       "      <td>1</td>\n",
       "      <td>Sales staff</td>\n",
       "      <td>1.0</td>\n",
       "    </tr>\n",
       "    <tr>\n",
       "      <th>4</th>\n",
       "      <td>5008809</td>\n",
       "      <td>F</td>\n",
       "      <td>N</td>\n",
       "      <td>Y</td>\n",
       "      <td>0</td>\n",
       "      <td>270000.0</td>\n",
       "      <td>Commercial associate</td>\n",
       "      <td>Secondary / secondary special</td>\n",
       "      <td>Single / not married</td>\n",
       "      <td>House / apartment</td>\n",
       "      <td>-19110</td>\n",
       "      <td>-3051</td>\n",
       "      <td>1</td>\n",
       "      <td>0</td>\n",
       "      <td>1</td>\n",
       "      <td>1</td>\n",
       "      <td>Sales staff</td>\n",
       "      <td>1.0</td>\n",
       "    </tr>\n",
       "  </tbody>\n",
       "</table>\n",
       "</div>"
      ],
      "text/plain": [
       "        ID CODE_GENDER FLAG_OWN_CAR FLAG_OWN_REALTY  CNT_CHILDREN  \\\n",
       "0  5008804           M            Y               Y             0   \n",
       "1  5008805           M            Y               Y             0   \n",
       "2  5008806           M            Y               Y             0   \n",
       "3  5008808           F            N               Y             0   \n",
       "4  5008809           F            N               Y             0   \n",
       "\n",
       "   AMT_INCOME_TOTAL      NAME_INCOME_TYPE            NAME_EDUCATION_TYPE  \\\n",
       "0          427500.0               Working               Higher education   \n",
       "1          427500.0               Working               Higher education   \n",
       "2          112500.0               Working  Secondary / secondary special   \n",
       "3          270000.0  Commercial associate  Secondary / secondary special   \n",
       "4          270000.0  Commercial associate  Secondary / secondary special   \n",
       "\n",
       "     NAME_FAMILY_STATUS  NAME_HOUSING_TYPE  DAYS_BIRTH  DAYS_EMPLOYED  \\\n",
       "0        Civil marriage   Rented apartment      -12005          -4542   \n",
       "1        Civil marriage   Rented apartment      -12005          -4542   \n",
       "2               Married  House / apartment      -21474          -1134   \n",
       "3  Single / not married  House / apartment      -19110          -3051   \n",
       "4  Single / not married  House / apartment      -19110          -3051   \n",
       "\n",
       "   FLAG_MOBIL  FLAG_WORK_PHONE  FLAG_PHONE  FLAG_EMAIL OCCUPATION_TYPE  \\\n",
       "0           1                1           0           0             NaN   \n",
       "1           1                1           0           0             NaN   \n",
       "2           1                0           0           0  Security staff   \n",
       "3           1                0           1           1     Sales staff   \n",
       "4           1                0           1           1     Sales staff   \n",
       "\n",
       "   CNT_FAM_MEMBERS  \n",
       "0              2.0  \n",
       "1              2.0  \n",
       "2              2.0  \n",
       "3              1.0  \n",
       "4              1.0  "
      ]
     },
     "execution_count": 4,
     "metadata": {},
     "output_type": "execute_result"
    }
   ],
   "source": [
    "application_df = pd.read_csv('./data/application_record.csv')\n",
    "\n",
    "application_df.head()"
   ]
  },
  {
   "cell_type": "code",
   "execution_count": 5,
   "metadata": {},
   "outputs": [
    {
     "data": {
      "text/html": [
       "<div>\n",
       "<style scoped>\n",
       "    .dataframe tbody tr th:only-of-type {\n",
       "        vertical-align: middle;\n",
       "    }\n",
       "\n",
       "    .dataframe tbody tr th {\n",
       "        vertical-align: top;\n",
       "    }\n",
       "\n",
       "    .dataframe thead th {\n",
       "        text-align: right;\n",
       "    }\n",
       "</style>\n",
       "<table border=\"1\" class=\"dataframe\">\n",
       "  <thead>\n",
       "    <tr style=\"text-align: right;\">\n",
       "      <th></th>\n",
       "      <th>ID</th>\n",
       "      <th>MONTHS_BALANCE</th>\n",
       "      <th>STATUS</th>\n",
       "    </tr>\n",
       "  </thead>\n",
       "  <tbody>\n",
       "    <tr>\n",
       "      <th>0</th>\n",
       "      <td>5001711</td>\n",
       "      <td>0</td>\n",
       "      <td>X</td>\n",
       "    </tr>\n",
       "    <tr>\n",
       "      <th>1</th>\n",
       "      <td>5001711</td>\n",
       "      <td>-1</td>\n",
       "      <td>0</td>\n",
       "    </tr>\n",
       "    <tr>\n",
       "      <th>2</th>\n",
       "      <td>5001711</td>\n",
       "      <td>-2</td>\n",
       "      <td>0</td>\n",
       "    </tr>\n",
       "    <tr>\n",
       "      <th>3</th>\n",
       "      <td>5001711</td>\n",
       "      <td>-3</td>\n",
       "      <td>0</td>\n",
       "    </tr>\n",
       "    <tr>\n",
       "      <th>4</th>\n",
       "      <td>5001712</td>\n",
       "      <td>0</td>\n",
       "      <td>C</td>\n",
       "    </tr>\n",
       "  </tbody>\n",
       "</table>\n",
       "</div>"
      ],
      "text/plain": [
       "        ID  MONTHS_BALANCE STATUS\n",
       "0  5001711               0      X\n",
       "1  5001711              -1      0\n",
       "2  5001711              -2      0\n",
       "3  5001711              -3      0\n",
       "4  5001712               0      C"
      ]
     },
     "execution_count": 5,
     "metadata": {},
     "output_type": "execute_result"
    }
   ],
   "source": [
    "credit_df = pd.read_csv('./data/credit_record.csv')\n",
    "\n",
    "credit_df.head()"
   ]
  },
  {
   "cell_type": "code",
   "execution_count": 6,
   "metadata": {},
   "outputs": [
    {
     "name": "stdout",
     "output_type": "stream",
     "text": [
      "Application dataset shape: (438557, 18)\n",
      "Credit dataset shape: (1048575, 3)\n"
     ]
    }
   ],
   "source": [
    "print(\"Application dataset shape: {}\".format(application_df.shape))\n",
    "print(\"Credit dataset shape: {}\".format(credit_df.shape))"
   ]
  },
  {
   "cell_type": "code",
   "execution_count": 7,
   "metadata": {},
   "outputs": [
    {
     "name": "stdout",
     "output_type": "stream",
     "text": [
      "Unique IDs in application dataset: 438510\n"
     ]
    }
   ],
   "source": [
    "print(\"Unique IDs in application dataset: {}\".format(len(set(application_df['ID']))))"
   ]
  },
  {
   "cell_type": "code",
   "execution_count": 8,
   "metadata": {},
   "outputs": [
    {
     "name": "stdout",
     "output_type": "stream",
     "text": [
      "Unique IDs in credit dataset: 45985\n"
     ]
    }
   ],
   "source": [
    "print(\"Unique IDs in credit dataset: {}\".format(len(set(credit_df['ID']))))"
   ]
  },
  {
   "cell_type": "code",
   "execution_count": 9,
   "metadata": {},
   "outputs": [
    {
     "name": "stdout",
     "output_type": "stream",
     "text": [
      "Common IDs in both datasets: 36457\n"
     ]
    }
   ],
   "source": [
    "print(\"Common IDs in both datasets: {}\".format(len(set(application_df['ID']).intersection(set(credit_df['ID'])))))"
   ]
  },
  {
   "attachments": {},
   "cell_type": "markdown",
   "metadata": {},
   "source": [
    "##### Drop Duplicated IDs"
   ]
  },
  {
   "cell_type": "code",
   "execution_count": 23,
   "metadata": {},
   "outputs": [
    {
     "data": {
      "text/plain": [
       "(94, 18)"
      ]
     },
     "execution_count": 23,
     "metadata": {},
     "output_type": "execute_result"
    }
   ],
   "source": [
    "ids = application_df[\"ID\"]\n",
    "\n",
    "app_df_dup = application_df[ids.isin(ids[ids.duplicated()])].sort_values(\"ID\")\n",
    "\n",
    "app_df_dup.shape"
   ]
  },
  {
   "cell_type": "code",
   "execution_count": 24,
   "metadata": {},
   "outputs": [
    {
     "name": "stdout",
     "output_type": "stream",
     "text": [
      "Application dataset shape: (438510, 18)\n"
     ]
    }
   ],
   "source": [
    "application_df = application_df.drop_duplicates(subset='ID')\n",
    "\n",
    "print(\"Application dataset shape: {}\".format(application_df.shape))"
   ]
  },
  {
   "cell_type": "code",
   "execution_count": null,
   "metadata": {},
   "outputs": [],
   "source": [
    "application_df.isna().sum()"
   ]
  },
  {
   "cell_type": "code",
   "execution_count": null,
   "metadata": {},
   "outputs": [],
   "source": [
    "application_df.nunique()"
   ]
  },
  {
   "cell_type": "code",
   "execution_count": null,
   "metadata": {},
   "outputs": [],
   "source": [
    "credit_df.isna().sum()"
   ]
  },
  {
   "cell_type": "code",
   "execution_count": null,
   "metadata": {},
   "outputs": [],
   "source": [
    "credit_df.nunique()"
   ]
  },
  {
   "attachments": {},
   "cell_type": "markdown",
   "metadata": {},
   "source": [
    "### Target Label Creation\n",
    "\n",
    "In order to identify *high risk* and *low risk* credit users below method is used.\n",
    "\n",
    "- **High Risk (Class 1):** If during any month, user is late on payments by 30 days or more.\n",
    "- **Low Risk (Class 0):** If the user has paid off, no loan taken or 1-29 days past due during any month"
   ]
  },
  {
   "cell_type": "code",
   "execution_count": null,
   "metadata": {},
   "outputs": [],
   "source": [
    "credit_df['target_status'] = np.where((credit_df['STATUS']=='0')|(credit_df['STATUS']=='C')|(credit_df['STATUS']=='X'), 0, 1)\n",
    "\n",
    "# target=1 (high risk) iff there is at least one month where user is late on payments by 30 days or more\n",
    "target_df=pd.DataFrame(credit_df.groupby(['ID'])['target_status'].agg(max)).reset_index()\n",
    "\n",
    "target_df.head()"
   ]
  },
  {
   "cell_type": "code",
   "execution_count": null,
   "metadata": {},
   "outputs": [],
   "source": [
    "target_df.groupby('target_status')['ID'].count()"
   ]
  },
  {
   "cell_type": "code",
   "execution_count": null,
   "metadata": {},
   "outputs": [],
   "source": [
    "target_df['target_status'].value_counts(normalize=True)"
   ]
  },
  {
   "cell_type": "code",
   "execution_count": null,
   "metadata": {},
   "outputs": [],
   "source": [
    "# Merge target label to application dataset\n",
    "merged_df = pd.merge(application_df, target_df, how='inner', on='ID')\n",
    "\n",
    "merged_df.head()"
   ]
  },
  {
   "cell_type": "code",
   "execution_count": null,
   "metadata": {},
   "outputs": [],
   "source": [
    "merged_df['target_status'] = merged_df['target_status'].astype(\"category\")"
   ]
  },
  {
   "cell_type": "code",
   "execution_count": null,
   "metadata": {},
   "outputs": [],
   "source": [
    "merged_df.shape"
   ]
  },
  {
   "attachments": {},
   "cell_type": "markdown",
   "metadata": {},
   "source": [
    "### Data Pre-processing"
   ]
  },
  {
   "cell_type": "code",
   "execution_count": null,
   "metadata": {},
   "outputs": [],
   "source": [
    "merged_df['ID'].nunique()"
   ]
  },
  {
   "cell_type": "code",
   "execution_count": null,
   "metadata": {},
   "outputs": [],
   "source": [
    "merged_df.isna().sum()"
   ]
  },
  {
   "cell_type": "code",
   "execution_count": null,
   "metadata": {},
   "outputs": [],
   "source": [
    "merged_df['OCCUPATION_TYPE'].value_counts()"
   ]
  },
  {
   "cell_type": "code",
   "execution_count": null,
   "metadata": {},
   "outputs": [],
   "source": [
    "merged_df['OCCUPATION_TYPE'].fillna(value='Other', inplace=True)\n",
    "\n",
    "merged_df.isna().sum()"
   ]
  },
  {
   "cell_type": "code",
   "execution_count": null,
   "metadata": {},
   "outputs": [],
   "source": [
    "merged_df.dtypes"
   ]
  },
  {
   "cell_type": "markdown",
   "metadata": {},
   "source": [
    "##### Feature Engineering"
   ]
  },
  {
   "cell_type": "code",
   "execution_count": null,
   "metadata": {},
   "outputs": [],
   "source": [
    "merged_df = get_category(merged_df, col='AMT_INCOME_TOTAL', binsnum=3, labels=[\"low\",\"medium\", \"high\"], qcut = True)\n",
    "\n",
    "merged_df.head()"
   ]
  },
  {
   "attachments": {},
   "cell_type": "markdown",
   "metadata": {},
   "source": [
    "##### Data Transformation"
   ]
  },
  {
   "cell_type": "code",
   "execution_count": null,
   "metadata": {},
   "outputs": [],
   "source": [
    "merged_df['NAME_EDUCATION_TYPE'].unique()"
   ]
  },
  {
   "cell_type": "code",
   "execution_count": null,
   "metadata": {},
   "outputs": [],
   "source": [
    "merged_df['DAYS_BIRTH'] = -1 * merged_df['DAYS_BIRTH']\n",
    "\n",
    "merged_df['DAYS_EMPLOYED'] = -1 * merged_df['DAYS_EMPLOYED']\n",
    "merged_df['DAYS_EMPLOYED'] = np.where((merged_df['DAYS_EMPLOYED']<=0), 0, merged_df['DAYS_EMPLOYED'])\n",
    "\n",
    "merged_df['NAME_EDUCATION_TYPE_ENCODED'] = merged_df['NAME_EDUCATION_TYPE'].replace({'Lower secondary': 0,\n",
    "                                                                                     'Secondary / secondary special': 1,\n",
    "                                                                                     'Incomplete higher': 2,\n",
    "                                                                                     'Higher education': 3,\n",
    "                                                                                     'Academic degree': 4})"
   ]
  },
  {
   "cell_type": "code",
   "execution_count": null,
   "metadata": {},
   "outputs": [],
   "source": [
    "cat_features = ['CODE_GENDER', 'FLAG_OWN_CAR', 'FLAG_OWN_REALTY', 'NAME_INCOME_TYPE', 'NAME_EDUCATION_TYPE', 'NAME_FAMILY_STATUS',\n",
    "                'NAME_HOUSING_TYPE', 'FLAG_MOBIL', 'FLAG_WORK_PHONE', 'FLAG_PHONE', 'FLAG_EMAIL', 'OCCUPATION_TYPE', 'AMT_INCOME_TOTAL_CAT']\n",
    "\n",
    "num_features = ['CNT_CHILDREN', 'AMT_INCOME_TOTAL', 'DAYS_BIRTH', 'DAYS_EMPLOYED', 'CNT_FAM_MEMBERS']\n",
    "\n",
    "all_features = num_features + cat_features"
   ]
  },
  {
   "attachments": {},
   "cell_type": "markdown",
   "metadata": {},
   "source": [
    "##### Statistics"
   ]
  },
  {
   "cell_type": "code",
   "execution_count": null,
   "metadata": {},
   "outputs": [],
   "source": [
    "merged_df['CNT_FAM_MEMBERS'] = merged_df['CNT_FAM_MEMBERS'].astype(int)"
   ]
  },
  {
   "cell_type": "code",
   "execution_count": null,
   "metadata": {},
   "outputs": [],
   "source": [
    "merged_df[num_features].describe().applymap('{:,.2f}'.format)"
   ]
  },
  {
   "cell_type": "code",
   "execution_count": null,
   "metadata": {},
   "outputs": [],
   "source": [
    "merged_df[cat_features] = merged_df[cat_features].astype(\"category\")\n",
    "merged_df[cat_features].describe()"
   ]
  },
  {
   "attachments": {},
   "cell_type": "markdown",
   "metadata": {},
   "source": [
    "##### Outlier Handling"
   ]
  },
  {
   "cell_type": "code",
   "execution_count": null,
   "metadata": {},
   "outputs": [],
   "source": [
    "handle_outliers = 'yes'\n",
    "\n",
    "if handle_outliers=='yes':\n",
    "    merged_df = clipping(dataframe=merged_df, num_cols=num_features)\n",
    "elif handle_outliers=='no':\n",
    "    merged_df = merged_df"
   ]
  },
  {
   "attachments": {},
   "cell_type": "markdown",
   "metadata": {},
   "source": [
    "### Data Visualization - Univariate Analysis"
   ]
  },
  {
   "attachments": {},
   "cell_type": "markdown",
   "metadata": {},
   "source": [
    "##### Target label"
   ]
  },
  {
   "cell_type": "code",
   "execution_count": null,
   "metadata": {},
   "outputs": [],
   "source": [
    "feature = 'target_status'\n",
    "unique_id = 'ID'\n",
    "\n",
    "fig1, axes1 = plt.subplots(1, 2, figsize=(10,5))\n",
    "fig1.subplots_adjust(hspace=0.4, wspace=0.4)\n",
    "\n",
    "count_plot(x=feature, dataframe=merged_df, ax=axes1[0])\n",
    "\n",
    "target_status_df = merged_df.groupby([feature])[[unique_id]].count()\n",
    "target_status_df.rename(columns={unique_id: 'Count'}, inplace=True)\n",
    "target_status_df['Percentage'] = round(100*target_status_df['Count']/target_status_df['Count'].sum(), 2)\n",
    "target_status_df.sort_values(by=['Percentage'], ascending=False, inplace=True)\n",
    "\n",
    "axes1[1].pie(target_status_df['Count'].values, autopct='%1.2f%%', shadow=False, startangle=90, explode=(0, 0.1))\n",
    "axes1[1].axis('equal')\n",
    "axes1[1].legend(labels=target_status_df['Count'].index, bbox_to_anchor=(1.05, 1))\n",
    "axes1[1].title.set_text('Normalized Frequency of\\n{}'.format(feature))\n",
    "\n",
    "plt.show()"
   ]
  },
  {
   "attachments": {},
   "cell_type": "markdown",
   "metadata": {},
   "source": [
    "##### CODE_GENDER"
   ]
  },
  {
   "cell_type": "code",
   "execution_count": null,
   "metadata": {},
   "outputs": [],
   "source": [
    "feature = 'CODE_GENDER'\n",
    "unique_id = 'ID'\n",
    "\n",
    "fig1, axes1 = plt.subplots(1, 2, figsize=(10,5))\n",
    "fig1.subplots_adjust(hspace=0.4, wspace=0.4)\n",
    "\n",
    "count_plot(x=feature, dataframe=merged_df, ax=axes1[0])\n",
    "\n",
    "target_status_df = merged_df.groupby([feature])[[unique_id]].count()\n",
    "target_status_df.rename(columns={unique_id: 'Count'}, inplace=True)\n",
    "target_status_df['Percentage'] = round(100*target_status_df['Count']/target_status_df['Count'].sum(), 2)\n",
    "target_status_df.sort_values(by=['Percentage'], ascending=False, inplace=True)\n",
    "\n",
    "axes1[1].pie(target_status_df['Count'].values, autopct='%1.2f%%', shadow=False, startangle=90, explode=(0, 0.1))\n",
    "axes1[1].axis('equal')\n",
    "axes1[1].legend(labels=target_status_df['Count'].index, bbox_to_anchor=(1.05, 1))\n",
    "axes1[1].title.set_text('Normalized Frequency of\\n{}'.format(feature))\n",
    "\n",
    "plt.show()"
   ]
  },
  {
   "attachments": {},
   "cell_type": "markdown",
   "metadata": {},
   "source": [
    "##### FLAG_OWN_CAR"
   ]
  },
  {
   "cell_type": "code",
   "execution_count": null,
   "metadata": {},
   "outputs": [],
   "source": [
    "feature = 'FLAG_OWN_CAR'\n",
    "unique_id = 'ID'\n",
    "\n",
    "fig1, axes1 = plt.subplots(1, 2, figsize=(10,5))\n",
    "fig1.subplots_adjust(hspace=0.4, wspace=0.4)\n",
    "\n",
    "count_plot(x=feature, dataframe=merged_df, ax=axes1[0])\n",
    "\n",
    "target_status_df = merged_df.groupby([feature])[[unique_id]].count()\n",
    "target_status_df.rename(columns={unique_id: 'Count'}, inplace=True)\n",
    "target_status_df['Percentage'] = round(100*target_status_df['Count']/target_status_df['Count'].sum(), 2)\n",
    "target_status_df.sort_values(by=['Percentage'], ascending=False, inplace=True)\n",
    "\n",
    "axes1[1].pie(target_status_df['Count'].values, autopct='%1.2f%%', shadow=False, startangle=90, explode=(0, 0.1))\n",
    "axes1[1].axis('equal')\n",
    "axes1[1].legend(labels=target_status_df['Count'].index, bbox_to_anchor=(1.05, 1))\n",
    "axes1[1].title.set_text('Normalized Frequency of\\n{}'.format(feature))\n",
    "\n",
    "plt.show()"
   ]
  },
  {
   "attachments": {},
   "cell_type": "markdown",
   "metadata": {},
   "source": [
    "##### FLAG_OWN_REALTY"
   ]
  },
  {
   "cell_type": "code",
   "execution_count": null,
   "metadata": {},
   "outputs": [],
   "source": [
    "feature = 'FLAG_OWN_REALTY'\n",
    "unique_id = 'ID' \n",
    "\n",
    "fig1, axes1 = plt.subplots(1, 2, figsize=(10,5))\n",
    "fig1.subplots_adjust(hspace=0.4, wspace=0.4)\n",
    "\n",
    "count_plot(x=feature, dataframe=merged_df, ax=axes1[0])\n",
    "\n",
    "target_status_df = merged_df.groupby([feature])[[unique_id]].count()\n",
    "target_status_df.rename(columns={unique_id: 'Count'}, inplace=True)\n",
    "target_status_df['Percentage'] = round(100*target_status_df['Count']/target_status_df['Count'].sum(), 2)\n",
    "target_status_df.sort_values(by=['Percentage'], ascending=False, inplace=True)\n",
    "\n",
    "axes1[1].pie(target_status_df['Count'].values, autopct='%1.2f%%', shadow=False, startangle=90, explode=(0, 0.1))\n",
    "axes1[1].axis('equal')\n",
    "axes1[1].legend(labels=target_status_df['Count'].index, bbox_to_anchor=(1.05, 1))\n",
    "axes1[1].title.set_text('Normalized Frequency of\\n{}'.format(feature))\n",
    "\n",
    "plt.show()"
   ]
  },
  {
   "attachments": {},
   "cell_type": "markdown",
   "metadata": {},
   "source": [
    "##### NAME_INCOME_TYPE"
   ]
  },
  {
   "cell_type": "code",
   "execution_count": null,
   "metadata": {},
   "outputs": [],
   "source": [
    "feature = 'NAME_INCOME_TYPE'\n",
    "unique_id = 'ID' \n",
    "\n",
    "fig1, axes1 = plt.subplots(1, 2, figsize=(15,5))\n",
    "fig1.subplots_adjust(hspace=0.4, wspace=0.1)\n",
    "\n",
    "count_plot(x=feature, dataframe=merged_df, ax=axes1[0], mode='horizontal')\n",
    "\n",
    "target_status_df = merged_df.groupby([feature])[[unique_id]].count()\n",
    "target_status_df.rename(columns={unique_id: 'Count'}, inplace=True)\n",
    "target_status_df['Percentage'] = round(100*target_status_df['Count']/target_status_df['Count'].sum(), 2)\n",
    "target_status_df.sort_values(by=['Percentage'], ascending=False, inplace=True)\n",
    "\n",
    "axes1[1].pie(target_status_df['Count'].values, autopct='%1.2f%%', shadow=False, startangle=90, explode=(0, 0, 0, 0.1, 0.2))\n",
    "axes1[1].axis('equal')\n",
    "axes1[1].legend(labels=target_status_df['Count'].index, bbox_to_anchor=(1.05, 1))\n",
    "axes1[1].title.set_text('Normalized Frequency of\\n{}'.format(feature))\n",
    "\n",
    "plt.show()"
   ]
  },
  {
   "attachments": {},
   "cell_type": "markdown",
   "metadata": {},
   "source": [
    "##### NAME_EDUCATION_TYPE"
   ]
  },
  {
   "cell_type": "code",
   "execution_count": null,
   "metadata": {},
   "outputs": [],
   "source": [
    "feature = 'NAME_EDUCATION_TYPE'\n",
    "unique_id = 'ID' \n",
    "\n",
    "fig1, axes1 = plt.subplots(1, 2, figsize=(12,5))\n",
    "fig1.subplots_adjust(hspace=0.4, wspace=0.01)\n",
    "\n",
    "count_plot(x=feature, dataframe=merged_df, ax=axes1[0], mode='horizontal')\n",
    "\n",
    "target_status_df = merged_df.groupby([feature])[[unique_id]].count()\n",
    "target_status_df.rename(columns={unique_id: 'Count'}, inplace=True)\n",
    "target_status_df['Percentage'] = round(100*target_status_df['Count']/target_status_df['Count'].sum(), 2)\n",
    "target_status_df.sort_values(by=['Percentage'], ascending=False, inplace=True)\n",
    "\n",
    "axes1[1].pie(target_status_df['Count'].values, autopct='%1.2f%%', shadow=False, startangle=90, explode=(0, 0, 0, 0.1, 0.2))\n",
    "axes1[1].axis('equal')\n",
    "axes1[1].legend(labels=target_status_df['Count'].index, bbox_to_anchor=(1.05, 1))\n",
    "axes1[1].title.set_text('Normalized Frequency of\\n{}'.format(feature))\n",
    "\n",
    "plt.show()"
   ]
  },
  {
   "attachments": {},
   "cell_type": "markdown",
   "metadata": {},
   "source": [
    "##### NAME_FAMILY_STATUS"
   ]
  },
  {
   "cell_type": "code",
   "execution_count": null,
   "metadata": {},
   "outputs": [],
   "source": [
    "feature = 'NAME_FAMILY_STATUS'\n",
    "unique_id = 'ID' \n",
    "\n",
    "fig1, axes1 = plt.subplots(1, 2, figsize=(12,5))\n",
    "fig1.subplots_adjust(hspace=0.4, wspace=0.01)\n",
    "\n",
    "count_plot(x=feature, dataframe=merged_df, ax=axes1[0], mode='horizontal')\n",
    "\n",
    "target_status_df = merged_df.groupby([feature])[[unique_id]].count()\n",
    "target_status_df.rename(columns={unique_id: 'Count'}, inplace=True)\n",
    "target_status_df['Percentage'] = round(100*target_status_df['Count']/target_status_df['Count'].sum(), 2)\n",
    "target_status_df.sort_values(by=['Percentage'], ascending=False, inplace=True)\n",
    "\n",
    "axes1[1].pie(target_status_df['Count'].values, autopct='%1.2f%%', shadow=False, startangle=90, explode=(0, 0, 0, 0.1, 0.2))\n",
    "axes1[1].axis('equal')\n",
    "axes1[1].legend(labels=target_status_df['Count'].index, bbox_to_anchor=(1.05, 1))\n",
    "axes1[1].title.set_text('Normalized Frequency of\\n{}'.format(feature))\n",
    "\n",
    "plt.show()"
   ]
  },
  {
   "attachments": {},
   "cell_type": "markdown",
   "metadata": {},
   "source": [
    "##### NAME_HOUSING_TYPE"
   ]
  },
  {
   "cell_type": "code",
   "execution_count": null,
   "metadata": {},
   "outputs": [],
   "source": [
    "feature = 'NAME_HOUSING_TYPE'\n",
    "unique_id = 'ID' \n",
    "\n",
    "fig1, axes1 = plt.subplots(1, 2, figsize=(15,5))\n",
    "fig1.subplots_adjust(hspace=0.4, wspace=0)\n",
    "\n",
    "count_plot(x=feature, dataframe=merged_df, ax=axes1[0], mode='horizontal')\n",
    "\n",
    "target_status_df = merged_df.groupby([feature])[[unique_id]].count()\n",
    "target_status_df.rename(columns={unique_id: 'Count'}, inplace=True)\n",
    "target_status_df['Percentage'] = round(100*target_status_df['Count']/target_status_df['Count'].sum(), 2)\n",
    "target_status_df.sort_values(by=['Percentage'], ascending=False, inplace=True)\n",
    "\n",
    "axes1[1].pie(target_status_df['Count'].values, autopct='%1.2f%%', shadow=False, startangle=90, explode=(0, 0, 0, 0.3, 0.2, 0.1))\n",
    "axes1[1].axis('equal')\n",
    "axes1[1].legend(labels=target_status_df['Count'].index, bbox_to_anchor=(1.05, 1))\n",
    "axes1[1].title.set_text('Normalized Frequency of\\n{}'.format(feature))\n",
    "\n",
    "plt.show()"
   ]
  },
  {
   "attachments": {},
   "cell_type": "markdown",
   "metadata": {},
   "source": [
    "##### FLAG_MOBIL"
   ]
  },
  {
   "cell_type": "code",
   "execution_count": null,
   "metadata": {},
   "outputs": [],
   "source": [
    "feature = 'FLAG_MOBIL'\n",
    "unique_id = 'ID' \n",
    "\n",
    "fig1, axes1 = plt.subplots(1, 2, figsize=(10,5))\n",
    "fig1.subplots_adjust(hspace=0.4, wspace=0.4)\n",
    "\n",
    "count_plot(x=feature, dataframe=merged_df, ax=axes1[0])\n",
    "\n",
    "target_status_df = merged_df.groupby([feature])[[unique_id]].count()\n",
    "target_status_df.rename(columns={unique_id: 'Count'}, inplace=True)\n",
    "target_status_df['Percentage'] = round(100*target_status_df['Count']/target_status_df['Count'].sum(), 2)\n",
    "target_status_df.sort_values(by=['Percentage'], ascending=False, inplace=True)\n",
    "\n",
    "axes1[1].pie(target_status_df['Count'].values, autopct='%1.2f%%', shadow=False, startangle=90)\n",
    "axes1[1].axis('equal')\n",
    "axes1[1].legend(labels=target_status_df['Count'].index, bbox_to_anchor=(1.05, 1))\n",
    "axes1[1].title.set_text('Normalized Frequency of\\n{}'.format(feature))\n",
    "\n",
    "plt.show()"
   ]
  },
  {
   "attachments": {},
   "cell_type": "markdown",
   "metadata": {},
   "source": [
    "##### FLAG_WORK_PHONE"
   ]
  },
  {
   "cell_type": "code",
   "execution_count": null,
   "metadata": {},
   "outputs": [],
   "source": [
    "feature = 'FLAG_WORK_PHONE'\n",
    "unique_id = 'ID' \n",
    "\n",
    "fig1, axes1 = plt.subplots(1, 2, figsize=(10,5))\n",
    "fig1.subplots_adjust(hspace=0.4, wspace=0.4)\n",
    "\n",
    "count_plot(x=feature, dataframe=merged_df, ax=axes1[0])\n",
    "\n",
    "target_status_df = merged_df.groupby([feature])[[unique_id]].count()\n",
    "target_status_df.rename(columns={unique_id: 'Count'}, inplace=True)\n",
    "target_status_df['Percentage'] = round(100*target_status_df['Count']/target_status_df['Count'].sum(), 2)\n",
    "target_status_df.sort_values(by=['Percentage'], ascending=False, inplace=True)\n",
    "\n",
    "axes1[1].pie(target_status_df['Count'].values, autopct='%1.2f%%', shadow=False, startangle=90, explode=(0, 0.1))\n",
    "axes1[1].axis('equal')\n",
    "axes1[1].legend(labels=target_status_df['Count'].index, bbox_to_anchor=(1.05, 1))\n",
    "axes1[1].title.set_text('Normalized Frequency of\\n{}'.format(feature))\n",
    "\n",
    "plt.show()"
   ]
  },
  {
   "attachments": {},
   "cell_type": "markdown",
   "metadata": {},
   "source": [
    "##### FLAG_PHONE"
   ]
  },
  {
   "cell_type": "code",
   "execution_count": null,
   "metadata": {},
   "outputs": [],
   "source": [
    "feature = 'FLAG_PHONE'\n",
    "unique_id = 'ID' \n",
    "\n",
    "fig1, axes1 = plt.subplots(1, 2, figsize=(10,5))\n",
    "fig1.subplots_adjust(hspace=0.4, wspace=0.4)\n",
    "\n",
    "count_plot(x=feature, dataframe=merged_df, ax=axes1[0])\n",
    "\n",
    "target_status_df = merged_df.groupby([feature])[[unique_id]].count()\n",
    "target_status_df.rename(columns={unique_id: 'Count'}, inplace=True)\n",
    "target_status_df['Percentage'] = round(100*target_status_df['Count']/target_status_df['Count'].sum(), 2)\n",
    "target_status_df.sort_values(by=['Percentage'], ascending=False, inplace=True)\n",
    "\n",
    "axes1[1].pie(target_status_df['Count'].values, autopct='%1.2f%%', shadow=False, startangle=90, explode=(0, 0.1))\n",
    "axes1[1].axis('equal')\n",
    "axes1[1].legend(labels=target_status_df['Count'].index, bbox_to_anchor=(1.05, 1))\n",
    "axes1[1].title.set_text('Normalized Frequency of\\n{}'.format(feature))\n",
    "\n",
    "plt.show()"
   ]
  },
  {
   "attachments": {},
   "cell_type": "markdown",
   "metadata": {},
   "source": [
    "##### FLAG_EMAIL"
   ]
  },
  {
   "cell_type": "code",
   "execution_count": null,
   "metadata": {},
   "outputs": [],
   "source": [
    "feature = 'FLAG_EMAIL'\n",
    "unique_id = 'ID' \n",
    "\n",
    "fig1, axes1 = plt.subplots(1, 2, figsize=(10,5))\n",
    "fig1.subplots_adjust(hspace=0.4, wspace=0.4)\n",
    "\n",
    "count_plot(x=feature, dataframe=merged_df, ax=axes1[0])\n",
    "\n",
    "target_status_df = merged_df.groupby([feature])[[unique_id]].count()\n",
    "target_status_df.rename(columns={unique_id: 'Count'}, inplace=True)\n",
    "target_status_df['Percentage'] = round(100*target_status_df['Count']/target_status_df['Count'].sum(), 2)\n",
    "target_status_df.sort_values(by=['Percentage'], ascending=False, inplace=True)\n",
    "\n",
    "axes1[1].pie(target_status_df['Count'].values, autopct='%1.2f%%', shadow=False, startangle=90, explode=(0, 0.1))\n",
    "axes1[1].axis('equal')\n",
    "axes1[1].legend(labels=target_status_df['Count'].index, bbox_to_anchor=(1.05, 1))\n",
    "axes1[1].title.set_text('Normalized Frequency of\\n{}'.format(feature))\n",
    "\n",
    "plt.show()"
   ]
  },
  {
   "attachments": {},
   "cell_type": "markdown",
   "metadata": {},
   "source": [
    "##### OCCUPATION_TYPE"
   ]
  },
  {
   "cell_type": "code",
   "execution_count": null,
   "metadata": {},
   "outputs": [],
   "source": [
    "feature = 'OCCUPATION_TYPE'\n",
    "unique_id = 'ID' \n",
    "\n",
    "fig1, axes1 = plt.subplots(1, 2, figsize=(15,5))\n",
    "fig1.subplots_adjust(hspace=0.4, wspace=0)\n",
    "\n",
    "count_plot(x=feature, dataframe=merged_df, ax=axes1[0], mode='horizontal')\n",
    "\n",
    "target_status_df = merged_df.groupby([feature])[[unique_id]].count()\n",
    "target_status_df.rename(columns={unique_id: 'Count'}, inplace=True)\n",
    "target_status_df['Percentage'] = round(100*target_status_df['Count']/target_status_df['Count'].sum(), 2)\n",
    "target_status_df.sort_values(by=['Percentage'], ascending=False, inplace=True)\n",
    "\n",
    "axes1[1].pie(target_status_df['Count'].values, autopct='%1.2f%%', shadow=False, startangle=90)\n",
    "axes1[1].axis('equal')\n",
    "axes1[1].legend(labels=target_status_df['Count'].index, bbox_to_anchor=(1.05, 1))\n",
    "axes1[1].title.set_text('Normalized Frequency of\\n{}'.format(feature))\n",
    "\n",
    "plt.show()"
   ]
  },
  {
   "attachments": {},
   "cell_type": "markdown",
   "metadata": {},
   "source": [
    "##### AMT_INCOME_TOTAL_CAT"
   ]
  },
  {
   "cell_type": "code",
   "execution_count": null,
   "metadata": {},
   "outputs": [],
   "source": [
    "feature = 'AMT_INCOME_TOTAL_CAT'\n",
    "unique_id = 'ID' \n",
    "\n",
    "fig1, axes1 = plt.subplots(1, 2, figsize=(10,5))\n",
    "fig1.subplots_adjust(hspace=0.4, wspace=0.4)\n",
    "\n",
    "count_plot(x=feature, dataframe=merged_df, ax=axes1[0])\n",
    "\n",
    "target_status_df = merged_df.groupby([feature])[[unique_id]].count()\n",
    "target_status_df.rename(columns={unique_id: 'Count'}, inplace=True)\n",
    "target_status_df['Percentage'] = round(100*target_status_df['Count']/target_status_df['Count'].sum(), 2)\n",
    "target_status_df.sort_values(by=['Percentage'], ascending=False, inplace=True)\n",
    "\n",
    "axes1[1].pie(target_status_df['Count'].values, autopct='%1.2f%%', shadow=False, startangle=90, explode=(0, 0, 0.1))\n",
    "axes1[1].axis('equal')\n",
    "axes1[1].legend(labels=target_status_df['Count'].index, bbox_to_anchor=(1.05, 1))\n",
    "axes1[1].title.set_text('Normalized Frequency of\\n{}'.format(feature))\n",
    "\n",
    "plt.show()"
   ]
  },
  {
   "attachments": {},
   "cell_type": "markdown",
   "metadata": {},
   "source": [
    "#### Histograms"
   ]
  },
  {
   "cell_type": "code",
   "execution_count": null,
   "metadata": {},
   "outputs": [],
   "source": [
    "nrow = int((len(num_features)/2) + len(num_features)%2)\n",
    "#nrow = int(len(num_features))\n",
    "\n",
    "fig = plt.figure(figsize=(15,15))\n",
    "\n",
    "for i, feature in enumerate(num_features):\n",
    "    ax = fig.add_subplot(nrow, 2, i+1)\n",
    "    sns.histplot(data=merged_df, x=feature, kde=True)\n",
    "    ax.set_xlabel(feature, fontsize=12)\n",
    "\n",
    "# Adjust the spacing between subplots\n",
    "fig.tight_layout()\n",
    "\n",
    "# Display the plot\n",
    "plt.show()"
   ]
  },
  {
   "cell_type": "code",
   "execution_count": null,
   "metadata": {},
   "outputs": [],
   "source": [
    "nrow = int((len(num_features)/2) + len(num_features)%2)\n",
    "#nrow = int(len(num_features))\n",
    "\n",
    "fig = plt.figure(figsize=(15,15))\n",
    "\n",
    "for i, feature in enumerate(num_features):\n",
    "    ax = fig.add_subplot(nrow, 2, i+1)\n",
    "    sns.boxplot(data=merged_df, x=feature)\n",
    "    ax.set_xlabel(feature, fontsize=12)\n",
    "\n",
    "# Adjust the spacing between subplots\n",
    "fig.tight_layout()\n",
    "\n",
    "# Display the plot\n",
    "plt.show()"
   ]
  },
  {
   "attachments": {},
   "cell_type": "markdown",
   "metadata": {},
   "source": [
    "### Data Visualization - Bivariate Analysis"
   ]
  },
  {
   "attachments": {},
   "cell_type": "markdown",
   "metadata": {},
   "source": [
    "#### Histograms"
   ]
  },
  {
   "cell_type": "code",
   "execution_count": null,
   "metadata": {},
   "outputs": [],
   "source": [
    "nrow = int((len(num_features)/2) + len(num_features)%2)\n",
    "#nrow = int(len(num_features))\n",
    "\n",
    "fig = plt.figure(figsize=(20,20))\n",
    "\n",
    "for i, feature in enumerate(num_features):\n",
    "    ax = fig.add_subplot(nrow, 2, i+1)\n",
    "    sns.histplot(data=merged_df, x=feature, hue='target_status', kde=True)\n",
    "    ax.set_xlabel(feature, fontsize=12)\n",
    "\n",
    "# Adjust the spacing between subplots\n",
    "fig.tight_layout()\n",
    "\n",
    "# Display the plot\n",
    "plt.show()"
   ]
  },
  {
   "cell_type": "code",
   "execution_count": null,
   "metadata": {},
   "outputs": [],
   "source": [
    "pdf_distribution_plots(df=merged_df, features=num_features, target='target_status')\n",
    "plt.show()"
   ]
  },
  {
   "attachments": {},
   "cell_type": "markdown",
   "metadata": {},
   "source": [
    "##### Boxplots"
   ]
  },
  {
   "cell_type": "code",
   "execution_count": null,
   "metadata": {},
   "outputs": [],
   "source": [
    "nrow = int((len(num_features)/2) + len(num_features)%2)\n",
    "#nrow = int(len(num_features))\n",
    "\n",
    "fig = plt.figure(figsize=(20,10))\n",
    "\n",
    "for i, feature in enumerate(num_features):\n",
    "    ax = fig.add_subplot(nrow, 2, i+1)\n",
    "    sns.boxplot(data=merged_df, x=feature, y=\"target_status\")\n",
    "    ax.set_xlabel(feature, fontsize=12)\n",
    "\n",
    "# Adjust the spacing between subplots\n",
    "fig.tight_layout()\n",
    "\n",
    "# Display the plot\n",
    "plt.show()"
   ]
  },
  {
   "cell_type": "code",
   "execution_count": null,
   "metadata": {},
   "outputs": [],
   "source": [
    "fig = plt.figure(figsize=(15,8))\n",
    "\n",
    "sns.boxplot(data=merged_df, x=\"AMT_INCOME_TOTAL\", y=\"NAME_EDUCATION_TYPE\")\n",
    "\n",
    "plt.show()"
   ]
  },
  {
   "cell_type": "code",
   "execution_count": null,
   "metadata": {},
   "outputs": [],
   "source": [
    "fig = plt.figure(figsize=(15,8))\n",
    "\n",
    "sns.boxplot(data=merged_df, x=\"AMT_INCOME_TOTAL\", y=\"FLAG_OWN_CAR\")\n",
    "\n",
    "plt.show()"
   ]
  },
  {
   "cell_type": "code",
   "execution_count": null,
   "metadata": {},
   "outputs": [],
   "source": [
    "fig = plt.figure(figsize=(15,8))\n",
    "\n",
    "sns.boxplot(data=merged_df, x=\"AMT_INCOME_TOTAL\", y=\"NAME_INCOME_TYPE\")\n",
    "\n",
    "plt.show()"
   ]
  },
  {
   "cell_type": "code",
   "execution_count": null,
   "metadata": {},
   "outputs": [],
   "source": [
    "fig = plt.figure(figsize=(20,10))\n",
    "\n",
    "sns.boxplot(data=merged_df, x=\"AMT_INCOME_TOTAL\", y=\"OCCUPATION_TYPE\")\n",
    "\n",
    "plt.show()"
   ]
  },
  {
   "cell_type": "code",
   "execution_count": null,
   "metadata": {},
   "outputs": [],
   "source": [
    "fig = plt.figure(figsize=(15,8))\n",
    "\n",
    "sns.boxplot(data=merged_df, x=\"AMT_INCOME_TOTAL\", y=\"AMT_INCOME_TOTAL_CAT\")\n",
    "\n",
    "plt.show()"
   ]
  },
  {
   "attachments": {},
   "cell_type": "markdown",
   "metadata": {},
   "source": [
    "##### Correlation"
   ]
  },
  {
   "cell_type": "code",
   "execution_count": null,
   "metadata": {},
   "outputs": [],
   "source": [
    "corr = merged_df[num_features].corr()\n",
    "\n",
    "fig = plt.figure(figsize=(10, 8))\n",
    "sns.heatmap(corr, xticklabels=corr.columns.values, yticklabels=corr.columns.values)\n",
    "plt.show()\n",
    "\n",
    "corr"
   ]
  },
  {
   "attachments": {},
   "cell_type": "markdown",
   "metadata": {},
   "source": [
    "##### Scatter Plots"
   ]
  },
  {
   "cell_type": "code",
   "execution_count": null,
   "metadata": {},
   "outputs": [],
   "source": [
    "fig = plt.figure()\n",
    "\n",
    "ax = sns.scatterplot(data=merged_df, x=\"CNT_CHILDREN\", y=\"CNT_FAM_MEMBERS\")\n",
    "\n",
    "#ax.set_xticks(np.arange(start=0, stop=20, step=1))\n",
    "#ax.set_yticks(np.arange(start=0, stop=20, step=1))\n",
    "plt.show()"
   ]
  },
  {
   "cell_type": "code",
   "execution_count": null,
   "metadata": {},
   "outputs": [],
   "source": [
    "fig = plt.figure()\n",
    "\n",
    "sns.scatterplot(data=merged_df, x=\"DAYS_EMPLOYED\", y=\"DAYS_BIRTH\")\n",
    "\n",
    "plt.show()"
   ]
  },
  {
   "cell_type": "code",
   "execution_count": null,
   "metadata": {},
   "outputs": [],
   "source": [
    "fig = plt.figure()\n",
    "\n",
    "sns.scatterplot(data=merged_df[merged_df['DAYS_EMPLOYED']==0], x=\"DAYS_EMPLOYED\", y=\"DAYS_BIRTH\")\n",
    "\n",
    "plt.show()"
   ]
  },
  {
   "cell_type": "code",
   "execution_count": null,
   "metadata": {},
   "outputs": [],
   "source": [
    "fig = plt.figure()\n",
    "\n",
    "sns.scatterplot(data=merged_df, x=\"AMT_INCOME_TOTAL\", y=\"DAYS_BIRTH\")\n",
    "\n",
    "plt.show()"
   ]
  },
  {
   "attachments": {},
   "cell_type": "markdown",
   "metadata": {},
   "source": [
    "##### Clustered Bar Charts"
   ]
  },
  {
   "cell_type": "code",
   "execution_count": null,
   "metadata": {},
   "outputs": [],
   "source": [
    "fig = plt.figure()\n",
    "\n",
    "sns.countplot(data=merged_df, x=\"CODE_GENDER\", hue=\"target_status\")\n",
    "\n",
    "plt.show()"
   ]
  },
  {
   "cell_type": "code",
   "execution_count": null,
   "metadata": {},
   "outputs": [],
   "source": [
    "fig = plt.figure()\n",
    "\n",
    "sns.countplot(data=merged_df, x=\"FLAG_OWN_CAR\", hue=\"target_status\")\n",
    "\n",
    "plt.show()"
   ]
  },
  {
   "cell_type": "code",
   "execution_count": null,
   "metadata": {},
   "outputs": [],
   "source": [
    "fig = plt.figure()\n",
    "\n",
    "sns.countplot(data=merged_df, x=\"FLAG_OWN_REALTY\", hue=\"target_status\")\n",
    "\n",
    "plt.show()"
   ]
  },
  {
   "cell_type": "code",
   "execution_count": null,
   "metadata": {},
   "outputs": [],
   "source": [
    "fig = plt.figure(figsize=(8,5))\n",
    "\n",
    "sns.countplot(data=merged_df, x=\"NAME_INCOME_TYPE\", hue=\"target_status\")\n",
    "\n",
    "plt.show()"
   ]
  },
  {
   "cell_type": "code",
   "execution_count": null,
   "metadata": {},
   "outputs": [],
   "source": [
    "fig = plt.figure()\n",
    "\n",
    "sns.countplot(data=merged_df, x=\"AMT_INCOME_TOTAL_CAT\", hue=\"target_status\")\n",
    "\n",
    "plt.show()"
   ]
  },
  {
   "cell_type": "code",
   "execution_count": null,
   "metadata": {},
   "outputs": [],
   "source": [
    "fig = plt.figure(figsize=(12,5))\n",
    "\n",
    "sns.countplot(data=merged_df, x=\"NAME_EDUCATION_TYPE\", hue=\"target_status\")\n",
    "\n",
    "plt.show()"
   ]
  },
  {
   "cell_type": "code",
   "execution_count": null,
   "metadata": {},
   "outputs": [],
   "source": [
    "fig = plt.figure(figsize=(12,5))\n",
    "\n",
    "sns.countplot(data=merged_df, x=\"NAME_FAMILY_STATUS\", hue=\"target_status\")\n",
    "\n",
    "plt.show()"
   ]
  },
  {
   "cell_type": "code",
   "execution_count": null,
   "metadata": {},
   "outputs": [],
   "source": [
    "fig = plt.figure(figsize=(12,5))\n",
    "\n",
    "sns.countplot(data=merged_df, x=\"NAME_HOUSING_TYPE\", hue=\"target_status\")\n",
    "\n",
    "plt.show()"
   ]
  },
  {
   "cell_type": "code",
   "execution_count": null,
   "metadata": {},
   "outputs": [],
   "source": [
    "fig = plt.figure(figsize=(8,5))\n",
    "\n",
    "sns.countplot(data=merged_df, x=\"FLAG_WORK_PHONE\", hue=\"target_status\")\n",
    "\n",
    "plt.show()"
   ]
  },
  {
   "cell_type": "code",
   "execution_count": null,
   "metadata": {},
   "outputs": [],
   "source": [
    "fig = plt.figure(figsize=(8,5))\n",
    "\n",
    "sns.countplot(data=merged_df, x=\"FLAG_PHONE\", hue=\"target_status\")\n",
    "\n",
    "plt.show()"
   ]
  },
  {
   "cell_type": "code",
   "execution_count": null,
   "metadata": {},
   "outputs": [],
   "source": [
    "fig = plt.figure(figsize=(8,5))\n",
    "\n",
    "sns.countplot(data=merged_df, x=\"FLAG_EMAIL\", hue=\"target_status\")\n",
    "\n",
    "plt.show()"
   ]
  },
  {
   "cell_type": "code",
   "execution_count": null,
   "metadata": {},
   "outputs": [],
   "source": [
    "fig = plt.figure(figsize=(15,10))\n",
    "\n",
    "sns.countplot(data=merged_df, y=\"OCCUPATION_TYPE\", hue=\"target_status\")\n",
    "\n",
    "plt.show()"
   ]
  },
  {
   "attachments": {},
   "cell_type": "markdown",
   "metadata": {},
   "source": [
    "### Data Visualization - Multivariate Analysis"
   ]
  },
  {
   "attachments": {},
   "cell_type": "markdown",
   "metadata": {},
   "source": [
    "#### Bubble Chart"
   ]
  },
  {
   "cell_type": "code",
   "execution_count": null,
   "metadata": {},
   "outputs": [],
   "source": [
    "fig = plt.figure(figsize=(20,10))\n",
    "\n",
    "sns.scatterplot(data=merged_df[merged_df['DAYS_EMPLOYED']>=0], x=\"AMT_INCOME_TOTAL\", y=\"DAYS_EMPLOYED\", size=\"CNT_FAM_MEMBERS\", sizes=(20, 200), hue=\"CNT_FAM_MEMBERS\")\n",
    "\n",
    "plt.show()"
   ]
  },
  {
   "cell_type": "code",
   "execution_count": null,
   "metadata": {},
   "outputs": [],
   "source": [
    "fig = plt.figure(figsize=(20,10))\n",
    "\n",
    "sns.scatterplot(data=merged_df[merged_df['DAYS_EMPLOYED']>0],\n",
    "                x=\"AMT_INCOME_TOTAL\",\n",
    "                y=\"DAYS_EMPLOYED\",\n",
    "                size=\"NAME_EDUCATION_TYPE_ENCODED\",\n",
    "                sizes=(20, 300),\n",
    "                hue=\"NAME_EDUCATION_TYPE_ENCODED\")\n",
    "\n",
    "plt.show()"
   ]
  },
  {
   "attachments": {},
   "cell_type": "markdown",
   "metadata": {},
   "source": [
    "#### Pairplot"
   ]
  },
  {
   "cell_type": "code",
   "execution_count": null,
   "metadata": {},
   "outputs": [],
   "source": [
    "fig = plt.figure()\n",
    "\n",
    "sns.pairplot(data=merged_df.drop(columns=['ID', 'NAME_EDUCATION_TYPE_ENCODED']), hue=\"target_status\", markers=[\"o\", \"D\"])\n",
    "\n",
    "plt.show()"
   ]
  },
  {
   "cell_type": "code",
   "execution_count": null,
   "metadata": {},
   "outputs": [],
   "source": []
  }
 ],
 "metadata": {
  "kernelspec": {
   "display_name": "DL_CLBW_GPU",
   "language": "python",
   "name": "python3"
  },
  "language_info": {
   "codemirror_mode": {
    "name": "ipython",
    "version": 3
   },
   "file_extension": ".py",
   "mimetype": "text/x-python",
   "name": "python",
   "nbconvert_exporter": "python",
   "pygments_lexer": "ipython3",
   "version": "3.7.13"
  },
  "orig_nbformat": 4
 },
 "nbformat": 4,
 "nbformat_minor": 2
}
